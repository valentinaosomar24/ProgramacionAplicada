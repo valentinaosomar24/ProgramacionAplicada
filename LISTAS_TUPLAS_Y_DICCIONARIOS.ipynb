{
  "nbformat": 4,
  "nbformat_minor": 0,
  "metadata": {
    "colab": {
      "provenance": [],
      "collapsed_sections": [],
      "authorship_tag": "ABX9TyOb2ThBSw8Cpe7NL9YFXthQ",
      "include_colab_link": true
    },
    "kernelspec": {
      "name": "python3",
      "display_name": "Python 3"
    },
    "language_info": {
      "name": "python"
    }
  },
  "cells": [
    {
      "cell_type": "markdown",
      "metadata": {
        "id": "view-in-github",
        "colab_type": "text"
      },
      "source": [
        "<a href=\"https://colab.research.google.com/github/valentinaosomar24/ProgramacionAplicada/blob/main/LISTAS_TUPLAS_Y_DICCIONARIOS.ipynb\" target=\"_parent\"><img src=\"https://colab.research.google.com/assets/colab-badge.svg\" alt=\"Open In Colab\"/></a>"
      ]
    },
    {
      "cell_type": "code",
      "execution_count": null,
      "metadata": {
        "colab": {
          "base_uri": "https://localhost:8080/"
        },
        "id": "4n_eGgs5lC39",
        "outputId": "605049bb-e0a4-4d3f-da85-02f3a610d6bf"
      },
      "outputs": [
        {
          "output_type": "stream",
          "name": "stdout",
          "text": [
            "Digite la cantidad de materias que esta cursando en el semestre: 3\n",
            "Digite el nombre de la asignatura 1: logica de programa\n",
            "Digite el nombre de la asignatura 2: bases de datos\n",
            "Digite el nombre de la asignatura 3: programacion orientada a objetos\n",
            "['logica de programa', 'bases de datos', 'programacion orientada a objetos']\n"
          ]
        }
      ],
      "source": [
        "#1 EJERCICIO \n",
        "materias=[]\n",
        "\n",
        "cantidadma=int(input(\"Digite la cantidad de materias que esta cursando en el semestre: \"))\n",
        "\n",
        "for i in range(cantidadma):\n",
        "  asignatura=input(\"Digite el nombre de la asignatura \"+str(i+1) +\": \")\n",
        "  materias.append(asignatura)\n",
        "\n",
        "print(materias)\n"
      ]
    },
    {
      "cell_type": "code",
      "source": [
        "#2 EJERCICIO\n",
        "cantidad=(int(input(\"Ingrese la cantidad de materias que cursa \")))\n",
        "\n",
        "Materias= []\n",
        "notas = []\n",
        "for i in range(cantidad):\n",
        "    Materias.append(input(\"Introduce las materias  \"))\n",
        "    \n",
        "for Materias in Materias:\n",
        "    nota = input(\"¿Qué nota espera sacar en \" + Materias + \"?\" + \", \")\n",
        "    notas.append(nota)\n",
        "    print(notas)\n",
        "\n"
      ],
      "metadata": {
        "id": "1RYEKRaSo9YD",
        "colab": {
          "base_uri": "https://localhost:8080/"
        },
        "outputId": "d8640ee0-89fd-4f41-b30a-7b7230abfeee"
      },
      "execution_count": null,
      "outputs": [
        {
          "output_type": "stream",
          "name": "stdout",
          "text": [
            "Ingrese la cantidad de materias que cursa 2\n",
            "Introduce las materias  bases de datos\n",
            "Introduce las materias  logica de programacion\n",
            "¿Qué nota espera sacar en bases de datos?, 5\n",
            "['5']\n",
            "¿Qué nota espera sacar en logica de programacion?, 4\n",
            "['5', '4']\n"
          ]
        }
      ]
    },
    {
      "cell_type": "code",
      "source": [
        "notas=[]\n",
        "\n",
        "for i in range(len(listamaterias)):\n",
        "  while True:\n",
        "    notastring=input(\"ingrese la nota que espera de \"+listamaterias[i]+': ')\n",
        "    notastring=notastring.replace(',','.')\n",
        "    nota=float(notastring)\n",
        "    \n",
        "    if nota>5 or nota<0:\n",
        "      print(\"ingrese una nota valida\")\n",
        "    else: \n",
        "        notas.append(nota)\n",
        "        break\n",
        "\n",
        "print(notas)"
      ],
      "metadata": {
        "id": "JEKTWS2yuT5H",
        "colab": {
          "base_uri": "https://localhost:8080/"
        },
        "outputId": "54e2e246-f152-4dbb-f7f1-59e62d967f2b"
      },
      "execution_count": null,
      "outputs": [
        {
          "output_type": "stream",
          "name": "stdout",
          "text": [
            "ingrese la nota que espera de matematicas: 1\n",
            "ingrese la nota que espera de español: 5\n",
            "[1.0, 5.0]\n"
          ]
        }
      ]
    },
    {
      "cell_type": "code",
      "source": [
        "#EJERCICIO 3 LISTAS\n",
        "cant=(int(input(\"Ingrese la cantidad de materias que cursa \")))\n",
        "\n",
        "Materias=[]\n",
        "Notas=[]\n",
        "\n",
        "\n",
        "for i in range(cant):\n",
        "    Materias.append(input(\"Introduce las materias: \"))\n",
        "  \n",
        "for Materia in Materias:\n",
        "  nota = (float(input(\"¿Qué nota espera sacar en \" + Materia + \"?\")))\n",
        "  Notas.append(nota)\n",
        "   \n",
        "aprobadas=[]\n",
        "reprobadas=[]\n",
        "\n",
        "for i in range(len(Materias)):\n",
        " if Notas[i]  <3:\n",
        "  reprobadas.append(Materias[i])\n",
        "\n",
        " else:\n",
        "  aprobadas.append(Materias[i])\n",
        "\n",
        "print(\"Usted aprobo\",aprobadas)\n",
        "print(\"Usted reprobo\",reprobadas)"
      ],
      "metadata": {
        "id": "DNvSClA2hGd5"
      },
      "execution_count": null,
      "outputs": []
    },
    {
      "cell_type": "code",
      "source": [
        "#EJERCICIO 4 LISTAS\n",
        " def esPalindromo(palabra):\n",
        "\n",
        "   \n",
        "  palabra= palabra.lower()\n",
        "  palabra=palabra.replace(\" \",\"\")\n",
        "  palabra= palabra.replace(\"á\",\"a\")\n",
        "  palabra= palabra.replace(\"é\",\"e\")\n",
        "  palabra= palabra.replace(\"í\",\"i\")\n",
        "  palabra= palabra.replace(\"ó\",\"o\")\n",
        "  palabra= palabra.replace(\"ú\",\"u\")\n",
        "  \n",
        "\n",
        "  a=0\n",
        "  b= len(palabra) -1\n",
        "\n",
        "  for i in range(0,len(palabra)):\n",
        "    if palabra[a]== palabra[b]:\n",
        "      a+=1\n",
        "      b-=1\n",
        "    else:\n",
        "       return False\n",
        "\n",
        "    return True\n",
        "palabra=input(\"Ingrese una palabra o una frase \")\n",
        "print()\n",
        "  \n",
        "if esPalindromo(palabra):\n",
        "\n",
        "      print(\"Es una frase o palabra palindroma\")\n",
        "else:\n",
        "       print(\"No es una palabra o frase palindroma\")"
      ],
      "metadata": {
        "id": "Hns5N0fU6Sm_"
      },
      "execution_count": null,
      "outputs": []
    },
    {
      "cell_type": "code",
      "source": [
        "#EJERCICIO 5 LISTAS\n",
        "\n",
        "import numpy\n",
        "v1str=input(\"Ingrese los valores del vector 1 separados por comas\")\n",
        "v1=v1str.split(',')\n",
        "v1=[float(element)for element in v1]\n",
        "\n",
        "v2str=input(\"Ingrese los valores del vector 2 separados por comas\")\n",
        "v2=v2str.split(',')\n",
        "v2=[float(element)for element in v2]\n",
        "\n",
        "\n",
        "res=numpy.dot(v1,v2)\n",
        "\n",
        "print(\"El producto escalar es:\", res)"
      ],
      "metadata": {
        "id": "nrSAMc6V6Ys1"
      },
      "execution_count": null,
      "outputs": []
    },
    {
      "cell_type": "code",
      "source": [
        "#EJERCICIO 6 LISTAS\n",
        "import numpy\n",
        "Numeros=[]\n",
        "#numero= input(\"Ingrese un numero si desea continuar, de lo contrario digite la palabra 'fin' \")\n",
        "#Numeros.append(numero)\n",
        "\n",
        "while (True):\n",
        "   \n",
        "    numero=input(\"Ingrese un numero si desea continuar, de lo contrario digite la palabra 'fin' \")\n",
        "    if numero.lower () != (\"fin\"):\n",
        "      Numeros.append(int(numero))\n",
        "    if numero.lower () == (\"fin\"):\n",
        "      #Numeros.pop()\n",
        "      m=numpy.mean(Numeros)\n",
        "      std=numpy.std(Numeros)\n",
        "      print(m)\n",
        "      print(std)\n",
        "      print(Numeros)\n",
        "      break"
      ],
      "metadata": {
        "id": "I0q1kw2x6c4f"
      },
      "execution_count": null,
      "outputs": []
    },
    {
      "cell_type": "code",
      "source": [
        "#EJERCICIO 7 LISTAS\n",
        "cambio=int(input(\"Ingrese el monto que paga el usuario\"))\n",
        "monto_a_pagar=int(input(\"Ingrese el total a pagar \"))\n",
        "cambio=cambio-monto_a_pagar\n",
        "if (cambio==0):\n",
        " print(\"Es exacto, no es necesario dar cambio\")\n",
        "elif (cambio<0):\n",
        "  print(\"Falta dinero, la cantidad faltante es: \",cambio*-1)\n",
        "else :\n",
        "    print(\"Ha pagado con mas dinero, su cambio es: \",cambio)\n",
        "    denominaciones=[100000,50000,20000,10000,5000,2000,1000,500,200,100,50]\n",
        "    for denominacion in denominaciones:\n",
        "     cantidad=cambio//denominacion\n",
        "     cambio=cambio%denominacion\n",
        "     if cantidad>0:\n",
        "      print(cantidad,\"de \",denominacion)"
      ],
      "metadata": {
        "id": "ay-VEpnC6gJc"
      },
      "execution_count": null,
      "outputs": []
    },
    {
      "cell_type": "code",
      "source": [
        "# 1 DICCIONARIOS\n",
        "divisa = {\"Euro\":'€', 'Dollar':'$', 'Yen':'¥'}\n",
        "dato = input(\"Introduce una divisa: \")\n",
        "if dato.title() in divisa:\n",
        "    print(\"La divisa es\",divisa[dato.title()])\n",
        "else:\n",
        "    print(\"La divisa no esta en el diccionario.\")"
      ],
      "metadata": {
        "id": "4x-UKAXw6iqa"
      },
      "execution_count": null,
      "outputs": []
    },
    {
      "cell_type": "code",
      "source": [
        "#2 DICCIONARIOS\n",
        "Datos = {}\n",
        "nombre = input('Nombre del alumno: ')\n",
        "edad = int(input('Edad: '))\n",
        "direccion = (input('Direccion: '))\n",
        "telefono = int(input('Telefono: '))\n",
        "\n",
        "Datos[''] = nombre\n",
        "Datos[''] = edad\n",
        "Datos[''] = direccion\n",
        "Datos['']=telefono\n",
        "print(\"\\n\",nombre,\"tiene\",edad,\"años\",\"vive en\",direccion,\"y su numero de telefono es\",telefono)"
      ],
      "metadata": {
        "id": "EcoUpPwU6lza"
      },
      "execution_count": null,
      "outputs": []
    },
    {
      "cell_type": "code",
      "source": [
        "#3 DICCIONARIOS\n",
        "fruta = {\n",
        "            'Platano': 1.35,\n",
        "           'Manzana':0.80,\n",
        "            'Pera':0.85,\n",
        "            'Naranja': 0.70,\n",
        "            \n",
        "}\n",
        "frutas=input(\"¿Que fruta desea llevar?\")\n",
        "if frutas in fruta:\n",
        "  kg=int(input(\"¿Cuantos kilos desea llevar?\"))\n",
        "  print(kg,\"kilos de \", frutas, \"valen \",fruta[frutas]*kg, \"$\")\n",
        "\n",
        "else:\n",
        "   print(\"La fruta ingresada no se encuentra disponible\")"
      ],
      "metadata": {
        "id": "0UXdcwzD70zw"
      },
      "execution_count": null,
      "outputs": []
    },
    {
      "cell_type": "code",
      "source": [
        "#4 DICCIONARIOS\n",
        "cesta = {}\n",
        "continuar = True\n",
        "while continuar:\n",
        "    item = input('Introduce un artículo: ')\n",
        "    precio = float(input('Introduce el precio de ' + item + ': '))\n",
        "    cesta[item] = precio\n",
        "    continuar = input('¿Quieres añadir artículos a la lista (Si/No)? ') == \"Si\"\n",
        "coste = 0\n",
        "print('Lista de la compra')\n",
        "for item, precio in cesta.items():\n",
        "    print(item, '\\t', precio)\n",
        "    coste += precio\n",
        "print('Coste total: ', coste)"
      ],
      "metadata": {
        "id": "4sIKCxXV79lC"
      },
      "execution_count": null,
      "outputs": []
    },
    {
      "cell_type": "code",
      "source": [
        "#EJERCICIO 5 DICCIONARIOS\n",
        "clientes = {}\n",
        "opcion = ''\n",
        "while opcion != '6':\n",
        "    if opcion == '1':\n",
        "        nif = input('Introduce NIF del cliente: ')\n",
        "        nombre = input('Introduce el nombre del cliente: ')\n",
        "        direccion = input('Introduce la dirección del cliente: ')\n",
        "        telefono = input('Introduce el teléfono del cliente: ')\n",
        "        email = input('Introduce el correo electrónico del cliente: ')\n",
        "        vip = input('¿Es un cliente preferente (S/N)? ')\n",
        "        cliente = {'nombre':nombre, 'dirección':direccion, 'teléfono':telefono, 'email':email, 'preferente':vip=='S'}\n",
        "        clientes[nif] = cliente\n",
        "    if opcion == '2':\n",
        "        nif = input('Introduce NIF del cliente: ')\n",
        "        if nif in clientes:\n",
        "            del clientes[nif]\n",
        "            print(\"Ha eliminado al cliente\")\n",
        "        else:\n",
        "            print('No existe el cliente con el nif', nif)\n",
        "    if opcion == '3':\n",
        "        nif = input('Introduce NIF del cliente: ')\n",
        "        if nif in clientes:\n",
        "            print('NIF:', nif)\n",
        "            for clave, valor in clientes[nif].items():\n",
        "                print(clave.title() + ':', valor)\n",
        "        else:\n",
        "            print('No existe el cliente con el nif', nif)\n",
        "    if opcion == '4':\n",
        "        print('Lista de clientes')\n",
        "        for clave, valor in clientes.items():\n",
        "            print(clave, valor['nombre'])\n",
        "    if opcion == '5':\n",
        "        print('Lista de clientes preferentes')\n",
        "        for clave, valor in clientes.items():\n",
        "            if valor['preferente']:\n",
        "                print(clave, valor['nombre'])\n",
        "    opcion = input('Menú de opciones\\n(1) Añadir cliente\\n(2) Eliminar cliente\\n(3) Mostrar cliente\\n(4) Listar clientes\\n(5) Listar clientes preferentes\\n(6) Terminar\\nElige una opción:')\n"
      ],
      "metadata": {
        "id": "Xt1F2IOK8BQM"
      },
      "execution_count": null,
      "outputs": []
    }
  ]
}